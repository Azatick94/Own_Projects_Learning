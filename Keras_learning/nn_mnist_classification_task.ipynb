{
 "cells": [
  {
   "cell_type": "markdown",
   "metadata": {
    "ExecuteTime": {
     "end_time": "2020-05-21T14:27:22.307949Z",
     "start_time": "2020-05-21T14:27:22.182346Z"
    }
   },
   "source": [
    "# Learning Keras"
   ]
  },
  {
   "cell_type": "code",
   "execution_count": 132,
   "metadata": {
    "ExecuteTime": {
     "end_time": "2020-05-21T19:56:39.791246Z",
     "start_time": "2020-05-21T19:56:39.786898Z"
    }
   },
   "outputs": [],
   "source": [
    "import numpy as np\n",
    "import tensorflow.keras as keras\n",
    "from tensorflow.keras.layers import Dense, Dropout\n",
    "from tensorflow.keras import layers"
   ]
  },
  {
   "cell_type": "markdown",
   "metadata": {},
   "source": [
    "# Configure network architecture"
   ]
  },
  {
   "cell_type": "code",
   "execution_count": 59,
   "metadata": {
    "ExecuteTime": {
     "end_time": "2020-05-21T17:21:49.133834Z",
     "start_time": "2020-05-21T17:21:49.055245Z"
    }
   },
   "outputs": [],
   "source": [
    "# lets add inputs\n",
    "\n",
    "# model architecture\n",
    "inputs = keras.Input(shape=(784,))\n",
    "x = Dense(64, activation='relu')(inputs)\n",
    "x  = Dropout(rate=0.1)(x)\n",
    "x = Dense(64, activation='relu')(x)\n",
    "outputs = Dense(10, activation='softmax')(x)\n",
    "\n",
    "# create model and setting optimizer and loss\n",
    "model = keras.Model(inputs=inputs, outputs=outputs, )\n",
    "model.compile(optimizer=keras.optimizers.RMSprop(), loss=keras.losses.SparseCategoricalCrossentropy(), \n",
    "             metrics=[\"accuracy\"])"
   ]
  },
  {
   "cell_type": "code",
   "execution_count": 60,
   "metadata": {
    "ExecuteTime": {
     "end_time": "2020-05-21T17:21:50.033632Z",
     "start_time": "2020-05-21T17:21:50.029149Z"
    }
   },
   "outputs": [],
   "source": [
    "# lets load mnist dataset"
   ]
  },
  {
   "cell_type": "code",
   "execution_count": 61,
   "metadata": {
    "ExecuteTime": {
     "end_time": "2020-05-21T17:21:51.676408Z",
     "start_time": "2020-05-21T17:21:51.174232Z"
    }
   },
   "outputs": [],
   "source": [
    "(x_train, y_train), (x_test, y_test) = keras.datasets.mnist.load_data()"
   ]
  },
  {
   "cell_type": "code",
   "execution_count": 62,
   "metadata": {
    "ExecuteTime": {
     "end_time": "2020-05-21T17:21:52.374749Z",
     "start_time": "2020-05-21T17:21:51.699388Z"
    }
   },
   "outputs": [],
   "source": [
    "# convert dataset to normal shape\n",
    "x_train = x_train.reshape((60000, 784)).astype('float')/255\n",
    "x_test = x_test.reshape((10000, 784)).astype('float')/255\n"
   ]
  },
  {
   "cell_type": "markdown",
   "metadata": {},
   "source": [
    "# Learning step"
   ]
  },
  {
   "cell_type": "code",
   "execution_count": 74,
   "metadata": {
    "ExecuteTime": {
     "end_time": "2020-05-21T17:26:59.351127Z",
     "start_time": "2020-05-21T17:26:42.044227Z"
    },
    "scrolled": true
   },
   "outputs": [
    {
     "name": "stdout",
     "output_type": "stream",
     "text": [
      "Train on 54000 samples, validate on 6000 samples\n",
      "Epoch 1/20\n",
      "54000/54000 [==============================] - 1s 17us/sample - loss: 0.0528 - accuracy: 0.9826 - val_loss: 0.0802 - val_accuracy: 0.9787\n",
      "Epoch 2/20\n",
      "54000/54000 [==============================] - 1s 17us/sample - loss: 0.0520 - accuracy: 0.9841 - val_loss: 0.0768 - val_accuracy: 0.9787\n",
      "Epoch 3/20\n",
      "54000/54000 [==============================] - 1s 17us/sample - loss: 0.0500 - accuracy: 0.9840 - val_loss: 0.0824 - val_accuracy: 0.9780\n",
      "Epoch 4/20\n",
      "54000/54000 [==============================] - 1s 17us/sample - loss: 0.0475 - accuracy: 0.9854 - val_loss: 0.0801 - val_accuracy: 0.9790\n",
      "Epoch 5/20\n",
      "54000/54000 [==============================] - 1s 16us/sample - loss: 0.0475 - accuracy: 0.9846 - val_loss: 0.0779 - val_accuracy: 0.9785\n",
      "Epoch 6/20\n",
      "54000/54000 [==============================] - 1s 16us/sample - loss: 0.0444 - accuracy: 0.9857 - val_loss: 0.0787 - val_accuracy: 0.9777\n",
      "Epoch 7/20\n",
      "54000/54000 [==============================] - 1s 16us/sample - loss: 0.0432 - accuracy: 0.9858 - val_loss: 0.0808 - val_accuracy: 0.9788\n",
      "Epoch 8/20\n",
      "54000/54000 [==============================] - 1s 17us/sample - loss: 0.0414 - accuracy: 0.9872 - val_loss: 0.0819 - val_accuracy: 0.9777\n",
      "Epoch 9/20\n",
      "54000/54000 [==============================] - 1s 17us/sample - loss: 0.0403 - accuracy: 0.9863 - val_loss: 0.0816 - val_accuracy: 0.9782\n",
      "Epoch 10/20\n",
      "54000/54000 [==============================] - 1s 16us/sample - loss: 0.0389 - accuracy: 0.9877 - val_loss: 0.0824 - val_accuracy: 0.9795\n",
      "Epoch 11/20\n",
      "54000/54000 [==============================] - 1s 13us/sample - loss: 0.0375 - accuracy: 0.9874 - val_loss: 0.0871 - val_accuracy: 0.9777\n",
      "Epoch 12/20\n",
      "54000/54000 [==============================] - 1s 15us/sample - loss: 0.0369 - accuracy: 0.9881 - val_loss: 0.0834 - val_accuracy: 0.9780\n",
      "Epoch 13/20\n",
      "54000/54000 [==============================] - 1s 17us/sample - loss: 0.0359 - accuracy: 0.9882 - val_loss: 0.0857 - val_accuracy: 0.9778\n",
      "Epoch 14/20\n",
      "54000/54000 [==============================] - 1s 17us/sample - loss: 0.0347 - accuracy: 0.9889 - val_loss: 0.0837 - val_accuracy: 0.9785\n",
      "Epoch 15/20\n",
      "54000/54000 [==============================] - 1s 17us/sample - loss: 0.0342 - accuracy: 0.9888 - val_loss: 0.0852 - val_accuracy: 0.9777\n",
      "Epoch 16/20\n",
      "54000/54000 [==============================] - 1s 17us/sample - loss: 0.0326 - accuracy: 0.9887 - val_loss: 0.0866 - val_accuracy: 0.9783\n",
      "Epoch 17/20\n",
      "54000/54000 [==============================] - 1s 11us/sample - loss: 0.0322 - accuracy: 0.9892 - val_loss: 0.0873 - val_accuracy: 0.9783\n",
      "Epoch 18/20\n",
      "54000/54000 [==============================] - 1s 16us/sample - loss: 0.0300 - accuracy: 0.9898 - val_loss: 0.0879 - val_accuracy: 0.9783\n",
      "Epoch 19/20\n",
      "54000/54000 [==============================] - 1s 17us/sample - loss: 0.0298 - accuracy: 0.9902 - val_loss: 0.0868 - val_accuracy: 0.9778\n",
      "Epoch 20/20\n",
      "54000/54000 [==============================] - 1s 16us/sample - loss: 0.0295 - accuracy: 0.9897 - val_loss: 0.0903 - val_accuracy: 0.9775\n"
     ]
    }
   ],
   "source": [
    "# fitting the model\n",
    "\n",
    "history = model.fit(x=x_train, y=y_train, batch_size=500, epochs=20, validation_split=0.1)"
   ]
  },
  {
   "cell_type": "code",
   "execution_count": 75,
   "metadata": {
    "ExecuteTime": {
     "end_time": "2020-05-21T17:26:59.875982Z",
     "start_time": "2020-05-21T17:26:59.384076Z"
    }
   },
   "outputs": [
    {
     "data": {
      "image/png": "[encoded data removed]",
      "text/plain": [
       "<Figure size 720x360 with 2 Axes>"
      ]
     },
     "metadata": {
      "needs_background": "light"
     },
     "output_type": "display_data"
    }
   ],
   "source": [
    "from matplotlib import pyplot as plt\n",
    "\n",
    "fig, axes = plt.subplots(2, figsize=(10,5))\n",
    "axes[0].plot(history.history['loss'])\n",
    "axes[1].plot(history.history['val_loss'])\n",
    "\n",
    "axes[0].legend(\"L\")\n",
    "axes[1].legend(\"V\")\n",
    "plt.show()"
   ]
  },
  {
   "cell_type": "markdown",
   "metadata": {},
   "source": [
    "# Model evaluation"
   ]
  },
  {
   "cell_type": "code",
   "execution_count": 129,
   "metadata": {
    "ExecuteTime": {
     "end_time": "2020-05-21T17:45:34.868589Z",
     "start_time": "2020-05-21T17:45:33.661600Z"
    }
   },
   "outputs": [
    {
     "name": "stdout",
     "output_type": "stream",
     "text": [
      "              precision    recall  f1-score   support\n",
      "\n",
      "           0       0.98      0.99      0.99       980\n",
      "           1       0.99      0.99      0.99      1135\n",
      "           2       0.97      0.98      0.98      1032\n",
      "           3       0.96      0.99      0.97      1010\n",
      "           4       0.98      0.97      0.98       982\n",
      "           5       0.98      0.97      0.97       892\n",
      "           6       0.97      0.98      0.97       958\n",
      "           7       0.98      0.97      0.98      1028\n",
      "           8       0.97      0.97      0.97       974\n",
      "           9       0.98      0.97      0.97      1009\n",
      "\n",
      "    accuracy                           0.98     10000\n",
      "   macro avg       0.98      0.98      0.98     10000\n",
      "weighted avg       0.98      0.98      0.98     10000\n",
      "\n",
      "ACCURACY_SCORE: 0.9767\n"
     ]
    }
   ],
   "source": [
    "from sklearn.metrics import classification_report, accuracy_score\n",
    "\n",
    "print(classification_report(y_true=y_test, y_pred=model.predict(x_test).argmax(axis=1)))\n",
    "print(\"ACCURACY_SCORE: \"+str(accuracy_score(y_true=y_test, y_pred=model.predict(x_test).argmax(axis=1))))\n"
   ]
  },
  {
   "cell_type": "code",
   "execution_count": 130,
   "metadata": {
    "ExecuteTime": {
     "end_time": "2020-05-21T19:48:04.384830Z",
     "start_time": "2020-05-21T19:48:03.602903Z"
    }
   },
   "outputs": [
    {
     "data": {
      "image/png": "[encoded data removed]",
      "text/plain": [
       "<Figure size 1440x1440 with 5 Axes>"
      ]
     },
     "metadata": {
      "needs_background": "light"
     },
     "output_type": "display_data"
    }
   ],
   "source": [
    "import matplotlib\n",
    "\n",
    "N = 5\n",
    "fig, axes = plt.subplots(N, figsize=(20,20), )\n",
    "for i in range(N):\n",
    "    axes[i].imshow(x_test[i].reshape((28,28)), )\n",
    "    axes[i].set_xlabel(\"RESULT IS: \"+str(model.predict((x_test[i]).reshape(1,784)).argmax()))\n",
    "\n",
    "plt.show()\n"
   ]
  },
  {
   "cell_type": "code",
   "execution_count": null,
   "metadata": {
    "ExecuteTime": {
     "end_time": "2020-05-21T17:24:06.287682Z",
     "start_time": "2020-05-21T17:24:06.280896Z"
    }
   },
   "outputs": [],
   "source": []
  },
  {
   "cell_type": "code",
   "execution_count": null,
   "metadata": {},
   "outputs": [],
   "source": []
  },
  {
   "cell_type": "code",
   "execution_count": null,
   "metadata": {},
   "outputs": [],
   "source": []
  },
  {
   "cell_type": "code",
   "execution_count": null,
   "metadata": {},
   "outputs": [],
   "source": []
  },
  {
   "cell_type": "code",
   "execution_count": null,
   "metadata": {},
   "outputs": [],
   "source": []
  },
  {
   "cell_type": "code",
   "execution_count": null,
   "metadata": {},
   "outputs": [],
   "source": []
  },
  {
   "cell_type": "code",
   "execution_count": null,
   "metadata": {},
   "outputs": [],
   "source": []
  },
  {
   "cell_type": "code",
   "execution_count": null,
   "metadata": {},
   "outputs": [],
   "source": []
  }
 ],
 "metadata": {
  "kernelspec": {
   "display_name": "Python 3",
   "language": "python",
   "name": "python3"
  },
  "language_info": {
   "codemirror_mode": {
    "name": "ipython",
    "version": 3
   },
   "file_extension": ".py",
   "mimetype": "text/x-python",
   "name": "python",
   "nbconvert_exporter": "python",
   "pygments_lexer": "ipython3",
   "version": "3.7.0"
  },
  "toc": {
   "base_numbering": 1,
   "nav_menu": {},
   "number_sections": true,
   "sideBar": true,
   "skip_h1_title": false,
   "title_cell": "Table of Contents",
   "title_sidebar": "Contents",
   "toc_cell": false,
   "toc_position": {
    "height": "calc(100% - 180px)",
    "left": "10px",
    "top": "150px",
    "width": "165px"
   },
   "toc_section_display": true,
   "toc_window_display": true
  },
  "varInspector": {
   "cols": {
    "lenName": 16,
    "lenType": 16,
    "lenVar": 40
   },
   "kernels_config": {
    "python": {
     "delete_cmd_postfix": "",
     "delete_cmd_prefix": "del ",
     "library": "var_list.py",
     "varRefreshCmd": "print(var_dic_list())"
    },
    "r": {
     "delete_cmd_postfix": ") ",
     "delete_cmd_prefix": "rm(",
     "library": "var_list.r",
     "varRefreshCmd": "cat(var_dic_list()) "
    }
   },
   "types_to_exclude": [
    "module",
    "function",
    "builtin_function_or_method",
    "instance",
    "_Feature"
   ],
   "window_display": false
  }
 },
 "nbformat": 4,
 "nbformat_minor": 4
}
