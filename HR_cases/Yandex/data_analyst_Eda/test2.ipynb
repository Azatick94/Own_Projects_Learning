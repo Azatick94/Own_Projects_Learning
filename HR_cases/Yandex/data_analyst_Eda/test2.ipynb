{
 "cells": [
  {
   "cell_type": "code",
   "execution_count": 1,
   "metadata": {
    "ExecuteTime": {
     "end_time": "2020-12-04T11:56:47.653516Z",
     "start_time": "2020-12-04T11:56:46.853996Z"
    }
   },
   "outputs": [],
   "source": [
    "# libs\n",
    "import os\n",
    "import pandas as pd\n",
    "from tqdm import tqdm"
   ]
  },
  {
   "cell_type": "markdown",
   "metadata": {},
   "source": [
    "# Описание\n",
    "\n",
    "Яндекс.Еда осуществляет доставку еды из ресторанов. При этом у каждого ресторана есть зона, в рамках которой осуществляется доставка. Зона представляет собой полигон (заданы координаты его вершин). Пользователь в зависимости от своего местоположения (координат точки) видит разное количество доступных ресторанов. Нам важно, чтобы у каждого пользователя было достаточное количество ресторанов для выбора. "
   ]
  },
  {
   "cell_type": "markdown",
   "metadata": {},
   "source": [
    "## Задача: Определить для каждого пользователя доступное ему количество ресторанов."
   ]
  },
  {
   "cell_type": "markdown",
   "metadata": {},
   "source": [
    "### Creating file user_coordinates.csv "
   ]
  },
  {
   "cell_type": "code",
   "execution_count": 2,
   "metadata": {
    "ExecuteTime": {
     "end_time": "2020-12-04T11:56:48.623160Z",
     "start_time": "2020-12-04T11:56:48.615158Z"
    }
   },
   "outputs": [],
   "source": [
    "# # Требования\n",
    "# # Данные, которые есть (для простоты в формате .csv, несколько первых строк): user_coordinates.csv \n",
    "# # (примерно 300 тыс. строк, user_id – идентификатор пользователя)\n",
    "\n",
    "# cols = ('user_id', 'loc_lat', 'loc_lon')\n",
    "# filename_to_save = r'user_coordinates.csv'\n",
    "# filename_to_save_short = r'user_coordinates_short.csv'\n",
    "\n",
    "# lst_user_id = [1,2,3]\n",
    "# lst_loc_lat = [55.737564, 56.234564, 55.234578]\n",
    "# lst_loc_lon = [37.345186, 37.234590, 36.295745]\n",
    "\n",
    "\n",
    "# lst_user_id_all = list(range(1,300001))\n",
    "# lst_loc_lat_all = lst_loc_lat*100000\n",
    "# lst_loc_lon_all = lst_loc_lon*100000\n",
    "\n",
    "\n",
    "# # saving file\n",
    "# pd.DataFrame({cols[0]: lst_user_id, cols[1]: lst_loc_lat, cols[2]: lst_loc_lon}).to_csv(filename_to_save_short, \n",
    "#                                                                                    encoding='utf-8', index=False)\n",
    "# # saving file\n",
    "# pd.DataFrame({cols[0]: lst_user_id_all, cols[1]: lst_loc_lat_all, cols[2]: lst_loc_lon_all}).to_csv(filename_to_save, \n",
    "#                                                                                    encoding='utf-8', index=False)\n",
    "\n"
   ]
  },
  {
   "cell_type": "markdown",
   "metadata": {
    "ExecuteTime": {
     "end_time": "2020-12-01T14:03:36.569548Z",
     "start_time": "2020-12-01T14:03:35.678337Z"
    }
   },
   "source": [
    "### Creating file place_zone_coordinates.csv"
   ]
  },
  {
   "cell_type": "code",
   "execution_count": 123,
   "metadata": {
    "ExecuteTime": {
     "end_time": "2020-12-04T15:48:36.627467Z",
     "start_time": "2020-12-04T15:48:35.925216Z"
    }
   },
   "outputs": [],
   "source": [
    "# # place_id – идентификатор ресторана, point_number – порядковый номер вершины полигона)\n",
    "\n",
    "# # place_id,loc_lat,loc_lon,point_number\n",
    "\n",
    "# # 1,55.747022,37.787073,0\n",
    "# # 1,55.751713,37.784328,1\n",
    "# # 1,55.753878,37.777638,2\n",
    "# # 1,55.751031,37.779351,3\n",
    "# # 2,55.803885,37.458311,0\n",
    "# # 2,55.808677,37.464054,1\n",
    "# # 2,55.809763,37.461314,2\n",
    "# # 2,55.810840,37.458654,3\n",
    "\n",
    "# # примерно 500 тыс. строк\n",
    "\n",
    "\n",
    "# cols = ('place_id', 'loc_lat', 'loc_lon', 'point_number')\n",
    "# filename_to_save = r'place_zone_coordinates.csv'\n",
    "# filename_to_save_short = r'place_zone_coordinates_short.csv'\n",
    "\n",
    "# ###############################################\n",
    "\n",
    "# lst_user_id = [1,1,1,1,2,2,2,2,3,3,3,3]\n",
    "# lst_loc_lat = [55.747022, 55.751713, 55.753878, 55.751031, 55.803885, 55.808677, 55.809763, 55.810840, \n",
    "#               55.747022, 55.751713, 55.753878, 55.751031]\n",
    "# lst_loc_lon = [37.787073, 37.784328, 37.777638, 37.779351, 37.458311, 37.464054, 37.461314, 37.458654,\n",
    "#               37.787073, 37.784328, 37.777638, 37.779351]\n",
    "# lst_point_number = [0,1,2,3,0,1,2,3,0,1,2,3]\n",
    "\n",
    "\n",
    "# # saving file\n",
    "# pd.DataFrame({cols[0]: lst_user_id, cols[1]: lst_loc_lat, \n",
    "#               cols[2]: lst_loc_lon, cols[3]: lst_point_number}).to_csv(filename_to_save_short, encoding='utf-8', index=False)\n",
    "\n",
    "\n",
    "# ################################################################\n",
    "\n",
    "\n",
    "# # bigger file\n",
    "# lst_user_id_all = [[x]*4 for x in list(range(1,50001))]\n",
    "# lst_user_id_all = ([j for i in lst_user_id_all for j in i])\n",
    "# lst_loc_lat_all = [55.747022, 55.751713, 55.753878, 55.751031]*50000\n",
    "# lst_loc_lon_all = [37.787073, 37.784328, 37.777638, 37.779351]*50000\n",
    "# lst_point_number_all = [0,1,2,3]*50000\n",
    "\n",
    "# # saving file\n",
    "# pd.DataFrame({cols[0]: lst_user_id_all, cols[1]: lst_loc_lat_all, \n",
    "#               cols[2]: lst_loc_lon_all, cols[3]: lst_point_number_all}).to_csv(filename_to_save, \n",
    "#                                                                                encoding='utf-8', index=False)\n",
    "\n",
    "\n",
    "\n"
   ]
  },
  {
   "cell_type": "code",
   "execution_count": null,
   "metadata": {},
   "outputs": [],
   "source": []
  },
  {
   "cell_type": "markdown",
   "metadata": {},
   "source": [
    "### Reading files"
   ]
  },
  {
   "cell_type": "code",
   "execution_count": 4,
   "metadata": {
    "ExecuteTime": {
     "end_time": "2020-12-04T11:56:51.124806Z",
     "start_time": "2020-12-04T11:56:51.095809Z"
    }
   },
   "outputs": [],
   "source": [
    "df_users = pd.read_csv('user_coordinates_short.csv')\n",
    "df_places = pd.read_csv('place_zone_coordinates_short.csv')"
   ]
  },
  {
   "cell_type": "code",
   "execution_count": 5,
   "metadata": {
    "ExecuteTime": {
     "end_time": "2020-12-04T11:56:52.249899Z",
     "start_time": "2020-12-04T11:56:52.223900Z"
    }
   },
   "outputs": [
    {
     "data": {
      "text/html": [
       "<div>\n",
       "<style scoped>\n",
       "    .dataframe tbody tr th:only-of-type {\n",
       "        vertical-align: middle;\n",
       "    }\n",
       "\n",
       "    .dataframe tbody tr th {\n",
       "        vertical-align: top;\n",
       "    }\n",
       "\n",
       "    .dataframe thead th {\n",
       "        text-align: right;\n",
       "    }\n",
       "</style>\n",
       "<table border=\"1\" class=\"dataframe\">\n",
       "  <thead>\n",
       "    <tr style=\"text-align: right;\">\n",
       "      <th></th>\n",
       "      <th>user_id</th>\n",
       "      <th>loc_lat</th>\n",
       "      <th>loc_lon</th>\n",
       "    </tr>\n",
       "  </thead>\n",
       "  <tbody>\n",
       "    <tr>\n",
       "      <th>0</th>\n",
       "      <td>1</td>\n",
       "      <td>55.737564</td>\n",
       "      <td>37.345186</td>\n",
       "    </tr>\n",
       "    <tr>\n",
       "      <th>1</th>\n",
       "      <td>2</td>\n",
       "      <td>56.234564</td>\n",
       "      <td>37.234590</td>\n",
       "    </tr>\n",
       "    <tr>\n",
       "      <th>2</th>\n",
       "      <td>3</td>\n",
       "      <td>55.234578</td>\n",
       "      <td>36.295745</td>\n",
       "    </tr>\n",
       "  </tbody>\n",
       "</table>\n",
       "</div>"
      ],
      "text/plain": [
       "   user_id    loc_lat    loc_lon\n",
       "0        1  55.737564  37.345186\n",
       "1        2  56.234564  37.234590\n",
       "2        3  55.234578  36.295745"
      ]
     },
     "execution_count": 5,
     "metadata": {},
     "output_type": "execute_result"
    }
   ],
   "source": [
    "df_users.head()"
   ]
  },
  {
   "cell_type": "code",
   "execution_count": 6,
   "metadata": {
    "ExecuteTime": {
     "end_time": "2020-12-04T11:56:53.231947Z",
     "start_time": "2020-12-04T11:56:53.213943Z"
    }
   },
   "outputs": [
    {
     "data": {
      "text/html": [
       "<div>\n",
       "<style scoped>\n",
       "    .dataframe tbody tr th:only-of-type {\n",
       "        vertical-align: middle;\n",
       "    }\n",
       "\n",
       "    .dataframe tbody tr th {\n",
       "        vertical-align: top;\n",
       "    }\n",
       "\n",
       "    .dataframe thead th {\n",
       "        text-align: right;\n",
       "    }\n",
       "</style>\n",
       "<table border=\"1\" class=\"dataframe\">\n",
       "  <thead>\n",
       "    <tr style=\"text-align: right;\">\n",
       "      <th></th>\n",
       "      <th>place_id</th>\n",
       "      <th>loc_lat</th>\n",
       "      <th>loc_lon</th>\n",
       "      <th>point_number</th>\n",
       "    </tr>\n",
       "  </thead>\n",
       "  <tbody>\n",
       "    <tr>\n",
       "      <th>0</th>\n",
       "      <td>1</td>\n",
       "      <td>55.747022</td>\n",
       "      <td>37.787073</td>\n",
       "      <td>0</td>\n",
       "    </tr>\n",
       "    <tr>\n",
       "      <th>1</th>\n",
       "      <td>1</td>\n",
       "      <td>55.751713</td>\n",
       "      <td>37.784328</td>\n",
       "      <td>1</td>\n",
       "    </tr>\n",
       "    <tr>\n",
       "      <th>2</th>\n",
       "      <td>1</td>\n",
       "      <td>55.753878</td>\n",
       "      <td>37.777638</td>\n",
       "      <td>2</td>\n",
       "    </tr>\n",
       "    <tr>\n",
       "      <th>3</th>\n",
       "      <td>1</td>\n",
       "      <td>55.751031</td>\n",
       "      <td>37.779351</td>\n",
       "      <td>3</td>\n",
       "    </tr>\n",
       "    <tr>\n",
       "      <th>4</th>\n",
       "      <td>2</td>\n",
       "      <td>55.803885</td>\n",
       "      <td>37.458311</td>\n",
       "      <td>0</td>\n",
       "    </tr>\n",
       "    <tr>\n",
       "      <th>5</th>\n",
       "      <td>2</td>\n",
       "      <td>55.808677</td>\n",
       "      <td>37.464054</td>\n",
       "      <td>1</td>\n",
       "    </tr>\n",
       "    <tr>\n",
       "      <th>6</th>\n",
       "      <td>2</td>\n",
       "      <td>55.809763</td>\n",
       "      <td>37.461314</td>\n",
       "      <td>2</td>\n",
       "    </tr>\n",
       "    <tr>\n",
       "      <th>7</th>\n",
       "      <td>2</td>\n",
       "      <td>55.810840</td>\n",
       "      <td>37.458654</td>\n",
       "      <td>3</td>\n",
       "    </tr>\n",
       "  </tbody>\n",
       "</table>\n",
       "</div>"
      ],
      "text/plain": [
       "   place_id    loc_lat    loc_lon  point_number\n",
       "0         1  55.747022  37.787073             0\n",
       "1         1  55.751713  37.784328             1\n",
       "2         1  55.753878  37.777638             2\n",
       "3         1  55.751031  37.779351             3\n",
       "4         2  55.803885  37.458311             0\n",
       "5         2  55.808677  37.464054             1\n",
       "6         2  55.809763  37.461314             2\n",
       "7         2  55.810840  37.458654             3"
      ]
     },
     "execution_count": 6,
     "metadata": {},
     "output_type": "execute_result"
    }
   ],
   "source": [
    "df_places"
   ]
  },
  {
   "cell_type": "markdown",
   "metadata": {},
   "source": [
    "### Trying to detect if a point is inside a polygon"
   ]
  },
  {
   "cell_type": "code",
   "execution_count": 7,
   "metadata": {
    "ExecuteTime": {
     "end_time": "2020-12-04T11:56:56.191428Z",
     "start_time": "2020-12-04T11:56:56.177403Z"
    },
    "code_folding": [
     0
    ],
    "run_control": {
     "marked": false
    }
   },
   "outputs": [],
   "source": [
    "# пример визуализации полигона и sample датапоинтов.\n",
    "\n",
    "\n",
    "# # sample user_datapoints\n",
    "# x_user = [37.345186, 37.234590, 36.295745] \n",
    "# y_user = [55.737564, 56.234564, 55.234578] \n",
    "\n",
    "# # sample полигон\n",
    "# poly = Polygon([ (37.787073, 55.747022), (37.784328, 55.751713), (37.777638, 55.753878), (37.779351, 55.751031) ])\n",
    "# x,y = poly.exterior.xy\n",
    "\n",
    "# fig = plt.figure(1, figsize=(5,5), dpi=90)\n",
    "# ax = fig.add_subplot(111)\n",
    "# ax.plot(x, y, color='#6699cc', alpha=0.7,\n",
    "#     linewidth=3, solid_capstyle='round', zorder=2)\n",
    "# ax.set_title('Polygon')\n",
    "# for i, txt in enumerate(x):\n",
    "#     ax.annotate(i, (x[i], y[i]))\n",
    "\n",
    "# plt.scatter(x, y, edgecolors='black', s=30)\n",
    "# plt.scatter(x_user, y_user, edgecolors='red', s=20, )\n",
    "\n",
    "# for i, txt in enumerate(x_user):\n",
    "#     ax.annotate(i, (x_user[i], y_user[i]))\n",
    "    "
   ]
  },
  {
   "cell_type": "code",
   "execution_count": 8,
   "metadata": {
    "ExecuteTime": {
     "end_time": "2020-12-04T11:56:56.549536Z",
     "start_time": "2020-12-04T11:56:56.540536Z"
    }
   },
   "outputs": [],
   "source": [
    "# !pip install shapely"
   ]
  },
  {
   "cell_type": "code",
   "execution_count": 9,
   "metadata": {
    "ExecuteTime": {
     "end_time": "2020-12-04T11:56:57.489388Z",
     "start_time": "2020-12-04T11:56:56.724119Z"
    }
   },
   "outputs": [],
   "source": [
    "from shapely.geometry import Point\n",
    "from shapely.geometry.polygon import Polygon\n",
    "from matplotlib import pyplot as plt"
   ]
  },
  {
   "cell_type": "code",
   "execution_count": 10,
   "metadata": {
    "ExecuteTime": {
     "end_time": "2020-12-04T11:56:57.726395Z",
     "start_time": "2020-12-04T11:56:57.508179Z"
    },
    "code_folding": []
   },
   "outputs": [
    {
     "data": {
      "image/png": "[encoded data removed]",
      "text/plain": [
       "<Figure size 450x450 with 1 Axes>"
      ]
     },
     "metadata": {
      "needs_background": "light"
     },
     "output_type": "display_data"
    }
   ],
   "source": [
    "# пример визуализации полигона и sample датапоинтов.\n",
    "\n",
    "\n",
    "# sample user_datapoints\n",
    "x_user = [37.78, 37.785] \n",
    "y_user = [55.752, 55.7515] \n",
    "\n",
    "# sample полигон\n",
    "poly = Polygon([ (37.787073, 55.747022), (37.784328, 55.751713), (37.777638, 55.753878), (37.779351, 55.751031) ])\n",
    "x,y = poly.exterior.xy\n",
    "\n",
    "fig = plt.figure(1, figsize=(5,5), dpi=90)\n",
    "ax = fig.add_subplot(111)\n",
    "ax.plot(x, y, color='#6699cc', alpha=0.7,\n",
    "    linewidth=3, solid_capstyle='round', zorder=2)\n",
    "ax.set_title('Polygon')\n",
    "for i, txt in enumerate(x):\n",
    "    ax.annotate(i, (x[i], y[i]))\n",
    "\n",
    "plt.scatter(x, y, edgecolors='black', s=30)\n",
    "plt.scatter(x_user, y_user, edgecolors='red', s=20, )\n",
    "\n",
    "for i, txt in enumerate(x_user):\n",
    "    ax.annotate(i, (x_user[i], y_user[i]))\n",
    "    "
   ]
  },
  {
   "cell_type": "code",
   "execution_count": 11,
   "metadata": {
    "ExecuteTime": {
     "end_time": "2020-12-04T11:56:57.758219Z",
     "start_time": "2020-12-04T11:56:57.744232Z"
    }
   },
   "outputs": [
    {
     "name": "stdout",
     "output_type": "stream",
     "text": [
      "True\n",
      "False\n"
     ]
    }
   ],
   "source": [
    "# Computationally, detecting if a point is inside a polygon is most \n",
    "# commonly done using a specific formula called Ray Casting algorithm\n",
    "# Lets try this functionality\n",
    "\n",
    "p1 = Point(x_user[0], y_user[0])\n",
    "p2 = Point(x_user[1], y_user[1])\n",
    "\n",
    "assert(poly.contains(p1))\n",
    "assert(not poly.contains(p2))\n",
    "\n",
    "print(poly.contains(p1)) # 0 точка на графике внутри графика\n",
    "print(poly.contains(p2)) # 1 точна на графике за полиномом\n"
   ]
  },
  {
   "cell_type": "code",
   "execution_count": 12,
   "metadata": {
    "ExecuteTime": {
     "end_time": "2020-12-04T11:56:58.050648Z",
     "start_time": "2020-12-04T11:56:58.036652Z"
    }
   },
   "outputs": [],
   "source": [
    "# ONE MORE EXAMPLE WITH NEGATIVE COORDINATES"
   ]
  },
  {
   "cell_type": "code",
   "execution_count": 13,
   "metadata": {
    "ExecuteTime": {
     "end_time": "2020-12-04T11:56:58.414528Z",
     "start_time": "2020-12-04T11:56:58.262527Z"
    },
    "code_folding": [
     0
    ]
   },
   "outputs": [
    {
     "data": {
      "image/png": "[encoded data removed]",
      "text/plain": [
       "<Figure size 450x450 with 1 Axes>"
      ]
     },
     "metadata": {
      "needs_background": "light"
     },
     "output_type": "display_data"
    }
   ],
   "source": [
    "# пример визуализации полигона и sample датапоинтов.\n",
    "\n",
    "\n",
    "# sample user_datapoints\n",
    "x_user = [37.78, 37.785] \n",
    "y_user = [-55.752, -55.7525] \n",
    "\n",
    "# sample полигон\n",
    "poly = Polygon([ (37.787073, -55.7515), (37.784328, -55.751713), (37.777638, -55.753878), (37.779351, -55.751031) ])\n",
    "x,y = poly.exterior.xy\n",
    "\n",
    "fig = plt.figure(1, figsize=(5,5), dpi=90)\n",
    "ax = fig.add_subplot(111)\n",
    "ax.plot(x, y, color='#6699cc', alpha=0.7,\n",
    "    linewidth=3, solid_capstyle='round', zorder=2)\n",
    "ax.set_title('Polygon')\n",
    "for i, txt in enumerate(x):\n",
    "    ax.annotate(i, (x[i], y[i]))\n",
    "\n",
    "plt.scatter(x, y, edgecolors='black', s=30)\n",
    "\n",
    "plt.scatter(x_user, y_user, edgecolors='red', s=20, )\n",
    "\n",
    "for i, txt in enumerate(x_user):\n",
    "    ax.annotate(i, (x_user[i], y_user[i]))\n",
    "    "
   ]
  },
  {
   "cell_type": "code",
   "execution_count": 14,
   "metadata": {
    "ExecuteTime": {
     "end_time": "2020-12-04T11:56:58.477525Z",
     "start_time": "2020-12-04T11:56:58.468528Z"
    }
   },
   "outputs": [
    {
     "name": "stdout",
     "output_type": "stream",
     "text": [
      "True\n",
      "False\n"
     ]
    }
   ],
   "source": [
    "\n",
    "p1 = Point(x_user[0], y_user[0])\n",
    "p2 = Point(x_user[1], y_user[1])\n",
    "\n",
    "assert(poly.contains(p1))\n",
    "assert(not poly.contains(p2))\n",
    "\n",
    "print(poly.contains(p1)) # 0 точка на графике внутри графика\n",
    "print(poly.contains(p2)) # 1 точна на графике за полиномом\n"
   ]
  },
  {
   "cell_type": "markdown",
   "metadata": {
    "ExecuteTime": {
     "end_time": "2020-12-01T17:53:01.882599Z",
     "start_time": "2020-12-01T17:53:01.877339Z"
    }
   },
   "source": [
    "### Let's make some calculus"
   ]
  },
  {
   "cell_type": "code",
   "execution_count": 63,
   "metadata": {
    "ExecuteTime": {
     "end_time": "2020-12-04T13:07:44.131428Z",
     "start_time": "2020-12-04T13:07:44.001430Z"
    }
   },
   "outputs": [],
   "source": [
    "# df_users = pd.read_csv('user_coordinates_short.csv')\n",
    "# df_places = pd.read_csv('place_zone_coordinates_short.csv')\n",
    "\n",
    "df_users = pd.read_csv('user_coordinates.csv')\n",
    "df_places = pd.read_csv('place_zone_coordinates.csv')\n",
    "df_places.sort_values(by=[ 'place_id', 'point_number'], inplace=True)"
   ]
  },
  {
   "cell_type": "code",
   "execution_count": 64,
   "metadata": {
    "ExecuteTime": {
     "end_time": "2020-12-04T13:07:44.794428Z",
     "start_time": "2020-12-04T13:07:44.770428Z"
    }
   },
   "outputs": [
    {
     "data": {
      "text/html": [
       "<div>\n",
       "<style scoped>\n",
       "    .dataframe tbody tr th:only-of-type {\n",
       "        vertical-align: middle;\n",
       "    }\n",
       "\n",
       "    .dataframe tbody tr th {\n",
       "        vertical-align: top;\n",
       "    }\n",
       "\n",
       "    .dataframe thead th {\n",
       "        text-align: right;\n",
       "    }\n",
       "</style>\n",
       "<table border=\"1\" class=\"dataframe\">\n",
       "  <thead>\n",
       "    <tr style=\"text-align: right;\">\n",
       "      <th></th>\n",
       "      <th>user_id</th>\n",
       "      <th>loc_lat</th>\n",
       "      <th>loc_lon</th>\n",
       "    </tr>\n",
       "  </thead>\n",
       "  <tbody>\n",
       "    <tr>\n",
       "      <th>0</th>\n",
       "      <td>1</td>\n",
       "      <td>55.737564</td>\n",
       "      <td>37.345186</td>\n",
       "    </tr>\n",
       "    <tr>\n",
       "      <th>1</th>\n",
       "      <td>2</td>\n",
       "      <td>56.234564</td>\n",
       "      <td>37.234590</td>\n",
       "    </tr>\n",
       "    <tr>\n",
       "      <th>2</th>\n",
       "      <td>3</td>\n",
       "      <td>55.234578</td>\n",
       "      <td>36.295745</td>\n",
       "    </tr>\n",
       "    <tr>\n",
       "      <th>3</th>\n",
       "      <td>4</td>\n",
       "      <td>55.737564</td>\n",
       "      <td>37.345186</td>\n",
       "    </tr>\n",
       "    <tr>\n",
       "      <th>4</th>\n",
       "      <td>5</td>\n",
       "      <td>56.234564</td>\n",
       "      <td>37.234590</td>\n",
       "    </tr>\n",
       "  </tbody>\n",
       "</table>\n",
       "</div>"
      ],
      "text/plain": [
       "   user_id    loc_lat    loc_lon\n",
       "0        1  55.737564  37.345186\n",
       "1        2  56.234564  37.234590\n",
       "2        3  55.234578  36.295745\n",
       "3        4  55.737564  37.345186\n",
       "4        5  56.234564  37.234590"
      ]
     },
     "execution_count": 64,
     "metadata": {},
     "output_type": "execute_result"
    }
   ],
   "source": [
    "df_users.head()"
   ]
  },
  {
   "cell_type": "code",
   "execution_count": 66,
   "metadata": {
    "ExecuteTime": {
     "end_time": "2020-12-04T13:07:49.385940Z",
     "start_time": "2020-12-04T13:07:49.361943Z"
    }
   },
   "outputs": [
    {
     "data": {
      "text/html": [
       "<div>\n",
       "<style scoped>\n",
       "    .dataframe tbody tr th:only-of-type {\n",
       "        vertical-align: middle;\n",
       "    }\n",
       "\n",
       "    .dataframe tbody tr th {\n",
       "        vertical-align: top;\n",
       "    }\n",
       "\n",
       "    .dataframe thead th {\n",
       "        text-align: right;\n",
       "    }\n",
       "</style>\n",
       "<table border=\"1\" class=\"dataframe\">\n",
       "  <thead>\n",
       "    <tr style=\"text-align: right;\">\n",
       "      <th></th>\n",
       "      <th>place_id</th>\n",
       "      <th>loc_lat</th>\n",
       "      <th>loc_lon</th>\n",
       "      <th>point_number</th>\n",
       "    </tr>\n",
       "  </thead>\n",
       "  <tbody>\n",
       "    <tr>\n",
       "      <th>0</th>\n",
       "      <td>1</td>\n",
       "      <td>55.747022</td>\n",
       "      <td>37.787073</td>\n",
       "      <td>0</td>\n",
       "    </tr>\n",
       "    <tr>\n",
       "      <th>1</th>\n",
       "      <td>1</td>\n",
       "      <td>55.751713</td>\n",
       "      <td>37.784328</td>\n",
       "      <td>1</td>\n",
       "    </tr>\n",
       "    <tr>\n",
       "      <th>2</th>\n",
       "      <td>1</td>\n",
       "      <td>55.753878</td>\n",
       "      <td>37.777638</td>\n",
       "      <td>2</td>\n",
       "    </tr>\n",
       "    <tr>\n",
       "      <th>3</th>\n",
       "      <td>1</td>\n",
       "      <td>55.751031</td>\n",
       "      <td>37.779351</td>\n",
       "      <td>3</td>\n",
       "    </tr>\n",
       "    <tr>\n",
       "      <th>4</th>\n",
       "      <td>2</td>\n",
       "      <td>55.803885</td>\n",
       "      <td>37.458311</td>\n",
       "      <td>0</td>\n",
       "    </tr>\n",
       "    <tr>\n",
       "      <th>5</th>\n",
       "      <td>2</td>\n",
       "      <td>55.808677</td>\n",
       "      <td>37.464054</td>\n",
       "      <td>1</td>\n",
       "    </tr>\n",
       "    <tr>\n",
       "      <th>6</th>\n",
       "      <td>2</td>\n",
       "      <td>55.809763</td>\n",
       "      <td>37.461314</td>\n",
       "      <td>2</td>\n",
       "    </tr>\n",
       "    <tr>\n",
       "      <th>7</th>\n",
       "      <td>2</td>\n",
       "      <td>55.810840</td>\n",
       "      <td>37.458654</td>\n",
       "      <td>3</td>\n",
       "    </tr>\n",
       "  </tbody>\n",
       "</table>\n",
       "</div>"
      ],
      "text/plain": [
       "   place_id    loc_lat    loc_lon  point_number\n",
       "0         1  55.747022  37.787073             0\n",
       "1         1  55.751713  37.784328             1\n",
       "2         1  55.753878  37.777638             2\n",
       "3         1  55.751031  37.779351             3\n",
       "4         2  55.803885  37.458311             0\n",
       "5         2  55.808677  37.464054             1\n",
       "6         2  55.809763  37.461314             2\n",
       "7         2  55.810840  37.458654             3"
      ]
     },
     "execution_count": 66,
     "metadata": {},
     "output_type": "execute_result"
    }
   ],
   "source": [
    "df_places"
   ]
  },
  {
   "cell_type": "code",
   "execution_count": null,
   "metadata": {},
   "outputs": [],
   "source": []
  },
  {
   "cell_type": "code",
   "execution_count": 46,
   "metadata": {
    "ExecuteTime": {
     "end_time": "2020-12-04T13:01:30.011658Z",
     "start_time": "2020-12-04T13:01:29.996657Z"
    },
    "code_folding": [],
    "run_control": {
     "marked": true
    }
   },
   "outputs": [],
   "source": [
    "# def run_check_poly(df_places, sample_place_id, sample_user_loc_lat, sample_user_loc_lon):\n",
    "    \n",
    "#     # filtering df_places\n",
    "#     df_places_filtered = df_places[df_places['place_id']==sample_place_id ]\n",
    "#     df_places_filtered.sort_values(by='point_number', inplace=True)\n",
    "    \n",
    "#     # preparing polygon for \n",
    "#     lats = np.array(df_places_filtered['loc_lat'].tolist())\n",
    "#     longs = np.array(df_places_filtered['loc_lon'].tolist())\n",
    "#     points = np.array(df_places_filtered['point_number'].tolist())\n",
    "    \n",
    "#     sample_poly = Polygon(list(zip(longs, lats)))\n",
    "#     sample_point = Point(sample_user_loc_lon, sample_user_loc_lat)\n",
    "    \n",
    "#     return sample_poly.contains(sample_point)\n",
    "\n",
    "# lst_users = df_users['user_id'].unique().tolist()\n",
    "# lst_place_ids = df_places['place_id'].unique().tolist()\n",
    "\n",
    "# lst_result_user_id = []\n",
    "# lst_result_count = []\n",
    "\n",
    "# # итерируем по юзерам\n",
    "# with tqdm(total=df_users.shape[0]) as pbar: \n",
    "#     for index, row in tqdm(df_users.iterrows()):\n",
    "#         pbar.update(1)\n",
    "\n",
    "#         # sample user with id, latitude, longiture\n",
    "#         sample_user_id = int(row['user_id'])\n",
    "#         print('user: '+str(sample_user_id))\n",
    "\n",
    "#         sample_user_loc_lat = row['loc_lat']\n",
    "#         sample_user_loc_lon = row['loc_lon']\n",
    "\n",
    "#         counter = 0;\n",
    "#         for sample_place_id in lst_place_ids:\n",
    "\n",
    "# #             print(sample_place_id)\n",
    "#             check_result = run_check_poly(df_places=df_places, sample_place_id=sample_place_id, \n",
    "#                         sample_user_loc_lat=sample_user_loc_lat, sample_user_loc_lon=sample_user_loc_lon )\n",
    "# #             print(check_result)\n",
    "\n",
    "#             if (check_result):\n",
    "#                 counter+=1\n",
    "\n",
    "#         lst_result_user_id.append(sample_user_id)\n",
    "#         lst_result_count.append(counter)\n",
    "    \n",
    "# final_result = pd.DataFrame({'user_id': lst_result_user_id, 'offer_count': lst_result_count})    \n"
   ]
  },
  {
   "cell_type": "code",
   "execution_count": 91,
   "metadata": {
    "ExecuteTime": {
     "end_time": "2020-12-04T13:12:51.920788Z",
     "start_time": "2020-12-04T13:12:51.895754Z"
    }
   },
   "outputs": [],
   "source": [
    "df_grouped = df_places.groupby(by='place_id').agg({'loc_lat': list, 'loc_lon': list}, axis=0)\n",
    "df_grouped['place_id'] = df_grouped.index\n",
    "df_grouped = df_grouped[['place_id', 'loc_lat', 'loc_lon']]\n",
    "df_grouped.reset_index(inplace=True, drop=True)"
   ]
  },
  {
   "cell_type": "code",
   "execution_count": 124,
   "metadata": {
    "ExecuteTime": {
     "end_time": "2020-12-04T19:39:13.927146Z",
     "start_time": "2020-12-04T19:39:13.906130Z"
    }
   },
   "outputs": [
    {
     "data": {
      "text/html": [
       "<div>\n",
       "<style scoped>\n",
       "    .dataframe tbody tr th:only-of-type {\n",
       "        vertical-align: middle;\n",
       "    }\n",
       "\n",
       "    .dataframe tbody tr th {\n",
       "        vertical-align: top;\n",
       "    }\n",
       "\n",
       "    .dataframe thead th {\n",
       "        text-align: right;\n",
       "    }\n",
       "</style>\n",
       "<table border=\"1\" class=\"dataframe\">\n",
       "  <thead>\n",
       "    <tr style=\"text-align: right;\">\n",
       "      <th></th>\n",
       "      <th>place_id</th>\n",
       "      <th>loc_lat</th>\n",
       "      <th>loc_lon</th>\n",
       "    </tr>\n",
       "  </thead>\n",
       "  <tbody>\n",
       "    <tr>\n",
       "      <th>0</th>\n",
       "      <td>1</td>\n",
       "      <td>[55.747021999999994, 55.751713, 55.753878, 55....</td>\n",
       "      <td>[37.787073, 37.784328, 37.777638, 37.779351]</td>\n",
       "    </tr>\n",
       "    <tr>\n",
       "      <th>1</th>\n",
       "      <td>2</td>\n",
       "      <td>[55.803885, 55.808677, 55.809763000000004, 55....</td>\n",
       "      <td>[37.458311, 37.464054, 37.461314, 37.458653999...</td>\n",
       "    </tr>\n",
       "  </tbody>\n",
       "</table>\n",
       "</div>"
      ],
      "text/plain": [
       "   place_id                                            loc_lat  \\\n",
       "0         1  [55.747021999999994, 55.751713, 55.753878, 55....   \n",
       "1         2  [55.803885, 55.808677, 55.809763000000004, 55....   \n",
       "\n",
       "                                             loc_lon  \n",
       "0       [37.787073, 37.784328, 37.777638, 37.779351]  \n",
       "1  [37.458311, 37.464054, 37.461314, 37.458653999...  "
      ]
     },
     "execution_count": 124,
     "metadata": {},
     "output_type": "execute_result"
    }
   ],
   "source": [
    "df_grouped"
   ]
  },
  {
   "cell_type": "code",
   "execution_count": 127,
   "metadata": {
    "ExecuteTime": {
     "end_time": "2020-12-04T19:40:28.064944Z",
     "start_time": "2020-12-04T19:40:28.058950Z"
    }
   },
   "outputs": [],
   "source": [
    "def some_func(row):\n",
    "    return row**2\n",
    "\n",
    "df_grouped['new_place_id'] = df_grouped.apply(lambda x: some_func(x['place_id']), axis=1)"
   ]
  },
  {
   "cell_type": "code",
   "execution_count": 133,
   "metadata": {
    "ExecuteTime": {
     "end_time": "2020-12-04T19:47:07.610752Z",
     "start_time": "2020-12-04T19:47:07.600727Z"
    }
   },
   "outputs": [],
   "source": [
    "df_users = df_users[:100]"
   ]
  },
  {
   "cell_type": "code",
   "execution_count": 134,
   "metadata": {
    "ExecuteTime": {
     "end_time": "2020-12-04T19:47:10.546276Z",
     "start_time": "2020-12-04T19:47:10.523295Z"
    }
   },
   "outputs": [
    {
     "data": {
      "text/html": [
       "<div>\n",
       "<style scoped>\n",
       "    .dataframe tbody tr th:only-of-type {\n",
       "        vertical-align: middle;\n",
       "    }\n",
       "\n",
       "    .dataframe tbody tr th {\n",
       "        vertical-align: top;\n",
       "    }\n",
       "\n",
       "    .dataframe thead th {\n",
       "        text-align: right;\n",
       "    }\n",
       "</style>\n",
       "<table border=\"1\" class=\"dataframe\">\n",
       "  <thead>\n",
       "    <tr style=\"text-align: right;\">\n",
       "      <th></th>\n",
       "      <th>user_id</th>\n",
       "      <th>loc_lat</th>\n",
       "      <th>loc_lon</th>\n",
       "    </tr>\n",
       "  </thead>\n",
       "  <tbody>\n",
       "    <tr>\n",
       "      <th>0</th>\n",
       "      <td>1</td>\n",
       "      <td>55.737564</td>\n",
       "      <td>37.345186</td>\n",
       "    </tr>\n",
       "    <tr>\n",
       "      <th>1</th>\n",
       "      <td>2</td>\n",
       "      <td>56.234564</td>\n",
       "      <td>37.234590</td>\n",
       "    </tr>\n",
       "    <tr>\n",
       "      <th>2</th>\n",
       "      <td>3</td>\n",
       "      <td>55.234578</td>\n",
       "      <td>36.295745</td>\n",
       "    </tr>\n",
       "    <tr>\n",
       "      <th>3</th>\n",
       "      <td>4</td>\n",
       "      <td>55.737564</td>\n",
       "      <td>37.345186</td>\n",
       "    </tr>\n",
       "    <tr>\n",
       "      <th>4</th>\n",
       "      <td>5</td>\n",
       "      <td>56.234564</td>\n",
       "      <td>37.234590</td>\n",
       "    </tr>\n",
       "    <tr>\n",
       "      <th>...</th>\n",
       "      <td>...</td>\n",
       "      <td>...</td>\n",
       "      <td>...</td>\n",
       "    </tr>\n",
       "    <tr>\n",
       "      <th>95</th>\n",
       "      <td>96</td>\n",
       "      <td>55.234578</td>\n",
       "      <td>36.295745</td>\n",
       "    </tr>\n",
       "    <tr>\n",
       "      <th>96</th>\n",
       "      <td>97</td>\n",
       "      <td>55.737564</td>\n",
       "      <td>37.345186</td>\n",
       "    </tr>\n",
       "    <tr>\n",
       "      <th>97</th>\n",
       "      <td>98</td>\n",
       "      <td>56.234564</td>\n",
       "      <td>37.234590</td>\n",
       "    </tr>\n",
       "    <tr>\n",
       "      <th>98</th>\n",
       "      <td>99</td>\n",
       "      <td>55.234578</td>\n",
       "      <td>36.295745</td>\n",
       "    </tr>\n",
       "    <tr>\n",
       "      <th>99</th>\n",
       "      <td>100</td>\n",
       "      <td>55.737564</td>\n",
       "      <td>37.345186</td>\n",
       "    </tr>\n",
       "  </tbody>\n",
       "</table>\n",
       "<p>100 rows × 3 columns</p>\n",
       "</div>"
      ],
      "text/plain": [
       "    user_id    loc_lat    loc_lon\n",
       "0         1  55.737564  37.345186\n",
       "1         2  56.234564  37.234590\n",
       "2         3  55.234578  36.295745\n",
       "3         4  55.737564  37.345186\n",
       "4         5  56.234564  37.234590\n",
       "..      ...        ...        ...\n",
       "95       96  55.234578  36.295745\n",
       "96       97  55.737564  37.345186\n",
       "97       98  56.234564  37.234590\n",
       "98       99  55.234578  36.295745\n",
       "99      100  55.737564  37.345186\n",
       "\n",
       "[100 rows x 3 columns]"
      ]
     },
     "execution_count": 134,
     "metadata": {},
     "output_type": "execute_result"
    }
   ],
   "source": [
    "df_users"
   ]
  },
  {
   "cell_type": "code",
   "execution_count": null,
   "metadata": {},
   "outputs": [],
   "source": []
  },
  {
   "cell_type": "code",
   "execution_count": null,
   "metadata": {},
   "outputs": [],
   "source": []
  },
  {
   "cell_type": "code",
   "execution_count": null,
   "metadata": {},
   "outputs": [],
   "source": []
  }
 ],
 "metadata": {
  "kernelspec": {
   "display_name": "Python 3",
   "language": "python",
   "name": "python3"
  },
  "language_info": {
   "codemirror_mode": {
    "name": "ipython",
    "version": 3
   },
   "file_extension": ".py",
   "mimetype": "text/x-python",
   "name": "python",
   "nbconvert_exporter": "python",
   "pygments_lexer": "ipython3",
   "version": "3.7.0"
  },
  "toc": {
   "base_numbering": 1,
   "nav_menu": {},
   "number_sections": true,
   "sideBar": true,
   "skip_h1_title": false,
   "title_cell": "Table of Contents",
   "title_sidebar": "Contents",
   "toc_cell": false,
   "toc_position": {
    "height": "calc(100% - 180px)",
    "left": "10px",
    "top": "150px",
    "width": "409.6px"
   },
   "toc_section_display": true,
   "toc_window_display": true
  },
  "varInspector": {
   "cols": {
    "lenName": 16,
    "lenType": 16,
    "lenVar": 40
   },
   "kernels_config": {
    "python": {
     "delete_cmd_postfix": "",
     "delete_cmd_prefix": "del ",
     "library": "var_list.py",
     "varRefreshCmd": "print(var_dic_list())"
    },
    "r": {
     "delete_cmd_postfix": ") ",
     "delete_cmd_prefix": "rm(",
     "library": "var_list.r",
     "varRefreshCmd": "cat(var_dic_list()) "
    }
   },
   "types_to_exclude": [
    "module",
    "function",
    "builtin_function_or_method",
    "instance",
    "_Feature"
   ],
   "window_display": false
  }
 },
 "nbformat": 4,
 "nbformat_minor": 2
}
